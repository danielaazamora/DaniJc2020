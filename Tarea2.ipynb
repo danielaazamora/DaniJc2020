{
 "cells": [
  {
   "cell_type": "markdown",
   "metadata": {},
   "source": [
    "# Regresión Lineal - Aprendizaje de Máquina - Tarea 2"
   ]
  },
  {
   "cell_type": "markdown",
   "metadata": {},
   "source": [
    "Daniela Zamora Horta - 166974"
   ]
  },
  {
   "cell_type": "markdown",
   "metadata": {},
   "source": [
    "Jose Carlos López López Santibañez - 165040"
   ]
  },
  {
   "cell_type": "markdown",
   "metadata": {},
   "source": [
    "18/02/2020"
   ]
  },
  {
   "cell_type": "markdown",
   "metadata": {},
   "source": [
    "Existen dos formas de ver "
   ]
  },
  {
   "cell_type": "markdown",
   "metadata": {},
   "source": [
    "HELLOOOOOO\n"
   ]
  },
  {
   "cell_type": "markdown",
   "metadata": {
    "collapsed": true
   },
   "source": [
    "Soy DANI"
   ]
  },
  {
   "cell_type": "markdown",
   "metadata": {},
   "source": []
  }
 ],
 "metadata": {
  "kernelspec": {
   "display_name": "Python 3",
   "language": "python",
   "name": "python3"
  },
  "language_info": {
   "codemirror_mode": {
    "name": "ipython",
    "version": 3
   },
   "file_extension": ".py",
   "mimetype": "text/x-python",
   "name": "python",
   "nbconvert_exporter": "python",
   "pygments_lexer": "ipython3",
   "version": "3.7.1"
  }
 },
 "nbformat": 4,
 "nbformat_minor": 2
}
